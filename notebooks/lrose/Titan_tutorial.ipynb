{
 "cells": [
  {
   "cell_type": "markdown",
   "id": "de6e774d-3552-4954-97b3-b5ebaf9e5c26",
   "metadata": {},
   "source": [
    "# TITAN Tutorial\n",
    "\n",
    "---\n",
    "\n",
    "<img align=\"right\" width=\"300\" height=\"300\" src=\"../images/hail_case_tracks.png\">\n",
    "\n",
    "This interactive tutorial takes you through the steps of how to run the Thunderstorm Identification, Tracking, Analysis and Nowcasting (TITAN) suite. TITAN was originally designed as an algorithm to objectively identify and track thunderstorms from weather radar data for a weather modification experiment in South Africa in the 1980s. Now, Titan includes forecasting, storm analysis, and climatological analysis. TITAN now refers to the larger system in which the original application is one component.\n",
    "\n",
    "Titan is described in more detail in [Dixon and Wiener (1993)](https://doi.org/10.1175/1520-0426(1993)010%3C0785:TTITAA%3E2.0.CO;2).\n",
    "\n",
    "---\n",
    "\n",
    "## Tutorial Overview\n",
    "### 1. Setup\n",
    "\n",
    "#### Download raw data and prepare parameter files\n",
    "\n",
    "Raw data files that are provided:\n",
    "* HDF 5 files from ECCC\n",
    "\n",
    "Parameter files :\n",
    "\n",
    "* Titan params\n",
    "\n",
    "### 2. Prepare data for analysis\n",
    "\n",
    "* Convert Odim files to CfRadial\n",
    "    * RadxConvert\n",
    "* ????\n",
    "\n",
    "### 3. Run Titan\n",
    "\n",
    "* Calculate KDP, run PID algorithm, estimate three-dimensional precipitation rates\n",
    "    * RadxRate\n",
    "\n",
    "### 4. Plot Results\n",
    "\n",
    "* Visualize results of Titan analysis\n",
    "\n",
    "### 5. Note on task cells\n",
    "\n",
    "This notebook uses two colored cells to indicate tasks.\n",
    "\n",
    "<div class=\"alert alert-block alert-info\"> <b>File Task: modify parameters in text files.</b> \n",
    "\n",
    "These text blocks help the user modify the parameter files or other functions in *external* text files.\n",
    "\n",
    "</div>\n",
    "\n",
    "<div class=\"alert alert-block alert-warning\"> <b>Cell Task: run a command in Jupyter notebook cell.</b> \n",
    "\n",
    "These text blocks instruct the users to run a command *in* a cell within the Jupyter notebook. If you prefer, you are welcome to copy the commands (minus the ! symbol) into a terminal window.\n",
    "\n",
    "</div>\n",
    "\n",
    "---"
   ]
  },
  {
   "cell_type": "markdown",
   "id": "5ebfa76f",
   "metadata": {},
   "source": [
    "# 1. Setup\n",
    "## Environment and packages"
   ]
  },
  {
   "cell_type": "markdown",
   "id": "edc99a35",
   "metadata": {},
   "source": [
    "First, we import the required python packages to run this notebook. Most of the LROSE processing can be done with the os package and shell commands. At the end we will plot the output using Py-ART."
   ]
  },
  {
   "cell_type": "code",
   "execution_count": null,
   "id": "9118e997-cfa3-429e-98db-7c413388d008",
   "metadata": {},
   "outputs": [],
   "source": [
    "import os\n",
    "import pyart\n",
    "import matplotlib.pyplot as plt\n",
    "import matplotlib.colors as colors\n",
    "import numpy as np"
   ]
  },
  {
   "cell_type": "markdown",
   "id": "cfc53496-a785-4816-82ac-e7e379d25a50",
   "metadata": {},
   "source": [
    "## Set up directories\n",
    "\n",
    "We need to set up the required data directories. The raw radar data will be grabbed from the S3 buckt. We delete any existing files and directories specific to this tutorial to ensure we're starting with clean directories and files."
   ]
  },
  {
   "cell_type": "code",
   "execution_count": null,
   "id": "b1f22ecf-9c3b-4ae1-8e5a-aa8c4f954d2c",
   "metadata": {},
   "outputs": [],
   "source": [
    "## make a directory for all the data files in the echo tutorial (raw and analysis)\n",
    "!rm -rf ./data/titan\n",
    "!mkdir -p ./data/titan\n",
    "\n",
    "## make subdirectory within data for the converted data\n",
    "!rm -rf ./data/titan/convert\n",
    "!mkdir ./data/titan/convert\n",
    "\n",
    "## make subdirectory within data for output data\n",
    "!rm -rf ./data/titan/output\n",
    "!mkdir ./data/titan/output\n"
   ]
  },
  {
   "cell_type": "markdown",
   "id": "b24e2f0f-fc42-4845-a5dd-50040f5b8c1e",
   "metadata": {
    "tags": []
   },
   "source": [
    "# 2. Prepare data for analysis\n",
    "## 2.1 Convert Nexrad Level II to CfRadial files"
   ]
  },
  {
   "cell_type": "markdown",
   "id": "edc30bff-24e7-470e-8831-4b51b5ff92cb",
   "metadata": {},
   "source": [
    "We can examine the raw radar file using RadxPrint. RadxPrint reads CfRadial and other raw radar formats and prints out radar metadata, variable names, and sweep information. For example, we can look at the variables using the following command, piping the output into the bash head command."
   ]
  },
  {
   "cell_type": "code",
   "execution_count": null,
   "id": "d8a3484f-bcc2-40ec-afab-899b3a28b807",
   "metadata": {
    "scrolled": true,
    "tags": []
   },
   "outputs": [],
   "source": [
    "# print out the first 50 lines of RadxPrint output\n",
    "!RadxPrint -f ./data/raw/2024080600_00_ODIMH5_PVOL6S_VOL_CASSM.h5 | head -50\n"
   ]
  },
  {
   "cell_type": "markdown",
   "id": "6c30b00c",
   "metadata": {},
   "source": [
    "***... add in file streaming code from basics notebook?????? ...***\n",
    "\n",
    "We convert the raw to CfRadial using RadxConvert so the other applications can read the files. Note that in the vast majority of cases, RadxConvert can be run without a parameter file, including in this case. However, there are instances where a parameter file is useful.\n",
    "\n",
    "Here, the *-f* flag provides the path to the raw radar file and the *-outdir* flag tells RadxConvert where the CfRadial file will be written. "
   ]
  },
  {
   "cell_type": "code",
   "execution_count": null,
   "id": "2bd3f5af-be73-4c9a-82f6-e41dc7f4f13e",
   "metadata": {
    "tags": []
   },
   "outputs": [],
   "source": [
    "!RadxConvert -f ./data/titan/raw/*.nc -outdir ./data/convert/cfradial\n"
   ]
  },
  {
   "cell_type": "markdown",
   "id": "f7fa7988-cd00-4691-aeb3-8c6e88e1815b",
   "metadata": {},
   "source": [
    "## 2.2 Visually Inspect Data\n",
    "\n",
    "First, let's look at a basic plot of the raw data using Py-ART."
   ]
  },
  {
   "cell_type": "code",
   "execution_count": null,
   "id": "3ff5f89f-ecc5-4b82-8380-8bcb2417c686",
   "metadata": {},
   "outputs": [],
   "source": [
    "# Read CfRadial file into radar object\n",
    "inDir_raw = \"./data/titan/cfradial/20240805/\"\n",
    "file_raw = \"cfrad.20240805_235403.000_to_20240805_235938.000_unknown_SUR.nc\"\n",
    "chill_raw = pyart.io.read_cfradial(inDir_raw+file_raw)\n",
    "\n",
    "# Plot raw data\n",
    "\n",
    "swp = 14\n",
    "\n",
    "displayRaw = pyart.graph.RadarDisplay(chill_raw)\n",
    "figRaw = plt.figure(1, (12, 5))\n",
    "\n",
    "# DBZ (input)\n",
    "\n",
    "axDbz = figRaw.add_subplot(121)\n",
    "displayRaw.plot_ppi('DBZH', swp, vmin=-32, vmax=64.,\n",
    "                    axislabels=(\"x(km)\", \"y(km)\"),\n",
    "                    colorbar_label=\"DBZ\", cmap='ChaseSpectral')\n",
    "displayRaw.plot_range_rings([50, 100, 150, 200, 250])\n",
    "displayRaw.plot_cross_hair(250.)\n",
    "displayRaw.set_limits(xlim=(-300,300),ylim=(-300,300))\n",
    "\n",
    "# ZDR\n",
    "\n",
    "axZdr = figRaw.add_subplot(122)\n",
    "displayRaw.plot_ppi('ZDR', swp, vmin=-1., vmax=5.,\n",
    "    axislabels=(\"x(km)\", \"y(km)\"),\n",
    "    colorbar_label=\"ZDR\",\n",
    "    cmap=\"nipy_spectral\")\n",
    "displayRaw.plot_range_rings([50, 100, 150, 200, 250])\n",
    "displayRaw.plot_cross_hair(250.)\n",
    "displayRaw.set_limits(xlim=(-300,300),ylim=(-300,300))"
   ]
  },
  {
   "cell_type": "markdown",
   "id": "7e968a98-ca46-4bd6-b8a7-78ee98c25d06",
   "metadata": {},
   "source": [
    "## 2.3 Other program placeholder (QC?)\n",
    "... other processing placeholder"
   ]
  },
  {
   "cell_type": "code",
   "execution_count": null,
   "id": "068b4e8d-c01f-433b-80d9-f6b665417509",
   "metadata": {},
   "outputs": [],
   "source": [
    "\n"
   ]
  },
  {
   "cell_type": "markdown",
   "id": "29782a1b-1291-4cfb-880b-541d6d27a873",
   "metadata": {},
   "source": [
    "## 2.4 Other program placeholder (sounding needed?)\n",
    "\n",
    "... other processing placeholder\n"
   ]
  },
  {
   "cell_type": "code",
   "execution_count": null,
   "id": "9d27d0de-7cf9-4d6b-ade6-f494a1b72d54",
   "metadata": {},
   "outputs": [],
   "source": []
  },
  {
   "cell_type": "markdown",
   "id": "617a84c8-f2db-46da-b26d-1da2e90980d3",
   "metadata": {},
   "source": [
    "## 2.5 Other program placeholder\n",
    "\n",
    "... other processing placeholder\n"
   ]
  },
  {
   "cell_type": "code",
   "execution_count": null,
   "id": "f43bb63d-1fb1-441a-866f-0398acd084c9",
   "metadata": {},
   "outputs": [],
   "source": [
    "\n"
   ]
  },
  {
   "cell_type": "markdown",
   "id": "a0ca1ff6-2fc1-4aab-9f56-134b74eccb6c",
   "metadata": {},
   "source": [
    "# 3. Setup and run Titan"
   ]
  },
  {
   "cell_type": "markdown",
   "id": "a0acd67e",
   "metadata": {},
   "source": [
    "## Titan Overview\n",
    "\n",
    "... Summarize prior processing and what Titan will do now ...\n",
    "\n",
    "Running Titan requires # main parameter file on the command line. That parameter file contains ... .\n",
    "\n",
    "Titan requires ... . \n",
    "\n",
    "<div class=\"alert alert-block alert-warning\"> <b>Cell Task: Check command line options of Titan</b> \n",
    "    <br>\n",
    "    LROSE applications often let you link to the input files and set the output directory on the command line. Let's check that those options exist (e.g., -f and -outdir). Type the following command into the open cell below and run it!\n",
    "    <br>\n",
    "    <code lang=\"bash\">!Titan -h</code>\n",
    "</div>"
   ]
  },
  {
   "cell_type": "code",
   "execution_count": null,
   "id": "4f020cec-b76b-45d9-add4-0f9d3a001614",
   "metadata": {},
   "outputs": [],
   "source": []
  },
  {
   "cell_type": "markdown",
   "id": "b286b541-1d40-4d89-b713-3de9558c0168",
   "metadata": {},
   "source": [
    "## 3.1 Generate the parameter file\n",
    "First, we need to generate the parameter file! LROSE applications use the <code lang=\"bash\">-print_params</code> flag to generate parameter files with the defaults. We just need to specify the location and name of the parameter file. \n",
    "\n",
    "Titan requires # parameter files to run: \n",
    "* a main parameter file that sets variable names and file paths\n",
    "\n",
    "<div class=\"alert alert-block alert-warning\"> <b>Cell Task: Create the Titan parameter file.</b> \n",
    "<br>\n",
    "Type the following commands into the open cell below and run it!\n",
    "<br>\n",
    "<code lang=\"bash\">!Titan -print_params > ./params/Titan_params</code>\n",
    "</div>"
   ]
  },
  {
   "cell_type": "code",
   "execution_count": null,
   "id": "8dbb8964-ed41-4c93-8b02-867e9e972e62",
   "metadata": {},
   "outputs": [],
   "source": []
  },
  {
   "cell_type": "markdown",
   "id": "0c2eaf8a-9c9f-4e03-a595-e18c9f655a00",
   "metadata": {},
   "source": [
    "## 3.2 Fill out the Titan parameter file\n",
    "\n",
    "Now we will step through and edit the parameter files.\n",
    "\n",
    "**Titan Parameter file (Titan_params)**\n",
    "\n",
    "First, we'll start with the parameters associated with the necessary file paths. Since we determined earlier that we can link to the input files and output directory on the command line, we don't need to modify them here, but we've listed the line numbers for reference.\n",
    "\n",
    "| Parameter | Description |\n",
    "| --- | --- |\n",
    "|input_dir|Path to input data, if not already specified on the command line.|\n",
    "\n",
    "\n",
    "<div class=\"alert alert-block alert-info\"> <b>File Task: ... .</b> \n",
    "\n",
    "Placeholder for tasks in the parameter file.\n",
    "\n",
    "</div>"
   ]
  },
  {
   "cell_type": "markdown",
   "id": "27a78bcc-8283-4fe2-b706-a508235e1cef",
   "metadata": {},
   "source": [
    "---\n",
    "\n",
    "Next, we'll ...\n",
    "\n",
    "<div class=\"alert alert-block alert-warning\"> <b>Cell Task: ... .</b> \n",
    "    \n",
    "Example Titan task that should be run in the cell\n",
    "\n",
    "</div>\n",
    "\n"
   ]
  },
  {
   "cell_type": "code",
   "execution_count": null,
   "id": "45898eaa-a779-4b16-a019-55a319a33e9e",
   "metadata": {},
   "outputs": [],
   "source": []
  },
  {
   "cell_type": "markdown",
   "id": "46affae1-f9f0-4b86-95b8-839b19d52bbf",
   "metadata": {},
   "source": [
    "---\n",
    "\n",
    "**Now we can run Titan!**\n",
    "\n",
    "Here, *-params* provides the link to the main RadxRate parameter file, *-f* provides the link to the files we want to process, and *-outdir* indicates where Titan should write the final files."
   ]
  },
  {
   "cell_type": "code",
   "execution_count": null,
   "id": "b916ddf3-4e02-4350-ab71-102d40c3105f",
   "metadata": {},
   "outputs": [],
   "source": [
    "!Titan -params ./params/Titan_params -f -outdir ./data/titan/\n"
   ]
  },
  {
   "cell_type": "markdown",
   "id": "a5e6b9dd",
   "metadata": {},
   "source": [
    "# 4. Plot Output"
   ]
  },
  {
   "cell_type": "code",
   "execution_count": null,
   "id": "e65760da-44ae-4694-a6c4-12e5f2fffb23",
   "metadata": {},
   "outputs": [],
   "source": []
  }
 ],
 "metadata": {
  "kernelspec": {
   "display_name": "Python 3 (ipykernel)",
   "language": "python",
   "name": "python3"
  },
  "language_info": {
   "codemirror_mode": {
    "name": "ipython",
    "version": 3
   },
   "file_extension": ".py",
   "mimetype": "text/x-python",
   "name": "python",
   "nbconvert_exporter": "python",
   "pygments_lexer": "ipython3",
   "version": "3.11.0"
  }
 },
 "nbformat": 4,
 "nbformat_minor": 5
}
