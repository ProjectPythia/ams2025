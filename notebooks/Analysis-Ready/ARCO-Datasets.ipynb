{
 "cells": [
  {
   "cell_type": "markdown",
   "metadata": {},
   "source": "```{figure} ../images/ARCO.jpeg\n:width: 800px\n:name: arco-logo\n:alt: Analysis-Ready Cloud-Optimized Logo\n\nAnalysis-Ready Cloud-Optimized (ARCO) concept diagram\n```"
  },
  {
   "cell_type": "markdown",
   "metadata": {},
   "source": [
    "# Analysis-Ready Cloud-Optimized Datasets"
   ]
  },
  {
   "cell_type": "markdown",
   "metadata": {},
   "source": [
    "---"
   ]
  },
  {
   "cell_type": "markdown",
   "metadata": {},
   "source": [
    "## Overview\n",
    "In this notebook, we will explore Analysis-Ready Cloud-Optimized (ARCO) radar datasets using Canadian weather radar data. You'll learn:\n",
    "\n",
    "1. **Analysis-Ready datasets** - Pre-processed data ready for immediate analysis\n",
    "2. **Cloud-Optimized formats** - Efficient storage and access in cloud environments  \n",
    "3. **FAIR principles** - Making data Findable, Accessible, Interoperable, and Reusable\n",
    "4. **Zarr format** - Modern chunked storage for large scientific datasets\n",
    "\n",
    "We'll use Canadian radar data from the May 2022 Ontario Derecho severe weather event."
   ]
  },
  {
   "cell_type": "markdown",
   "metadata": {},
   "source": "## Prerequisites\n\n```{list-table} Prerequisites for this tutorial\n:header-rows: 1\n:name: prerequisites-table\n\n* - Concepts\n  - Importance  \n  - Notes\n* - [Intro to Xarray](https://foundations.projectpythia.org/core/xarray)\n  - Necessary\n  - Basic features\n* - [Radar Cookbook](https://projectpythia.org/radar-cookbook/)\n  - Necessary\n  - Radar basics\n* - [Intro to Zarr](https://zarr.readthedocs.io/en/stable/tutorial.html)\n  - Necessary\n  - Zarr basics\n```\n\n- **Time to learn**: 30 minutes"
  },
  {
   "cell_type": "markdown",
   "metadata": {},
   "source": [
    "---"
   ]
  },
  {
   "cell_type": "markdown",
   "metadata": {},
   "source": [
    "## Imports\n"
   ]
  },
  {
   "cell_type": "markdown",
   "metadata": {},
   "source": [
    "## Analysis-Ready Data"
   ]
  },
  {
   "cell_type": "markdown",
   "metadata": {},
   "source": [
    "**Analysis-Ready data** means datasets are prepared and structured to be immediately usable for scientific analysis. Studies show that data scientists typically spend ~80% of their time preparing and cleaning data rather than doing actual analysis.\n",
    "\n",
    "Analysis-Ready datasets solve this by providing:\n",
    "- **Clean, pre-processed data** that's ready to use\n",
    "- **Rich metadata** that explains what the data contains\n",
    "- **Standardized formats** that work well with analysis tools\n",
    "- **Quality control** that ensures data reliability\n",
    "\n",
    "This means more time for science and discovery! 🚀"
   ]
  },
  {
   "cell_type": "markdown",
   "metadata": {},
   "source": "```{figure} ../images/AR.jpeg\n:width: 400px\n:name: analysis-ready-diagram\n:alt: Analysis-Ready Data Diagram\n\nAnalysis-Ready data workflow visualization\n```"
  },
  {
   "cell_type": "markdown",
   "metadata": {},
   "source": [
    "**Key Benefits of Analysis-Ready Data:**\n",
    "\n",
    "✅ **Datasets instead of scattered files** - Organized collections of related data  \n",
    "✅ **Pre-processed and clean** - No need to spend hours fixing data issues  \n",
    "✅ **Rich metadata included** - Clear documentation of what the data represents  \n",
    "✅ **Cataloged and discoverable** - Easy to find relevant datasets  \n",
    "✅ **Immediate analysis capability** - Start analyzing right away  \n",
    "✅ **More time for science!** - Focus on research questions, not data wrangling"
   ]
  },
  {
   "cell_type": "markdown",
   "metadata": {
    "jp-MarkdownHeadingCollapsed": true
   },
   "source": "## Cloud-Optimized Data\n\nTraditional radar data formats (like individual NetCDF files) work well on local computers but are slow and inefficient in cloud environments. **Cloud-Optimized** formats like Zarr are designed specifically for fast, efficient access from cloud storage.\n\n```{figure} ../images/cloud-move.png\n:name: cloud-migration\n:alt: Move to cloud diagram\n\nTraditional vs Cloud-Optimized data access patterns\n```\n\n**Why Cloud-Optimized matters:**\n- **Parallel access** - Multiple users can read different parts simultaneously\n- **Chunked storage** - Only download the data you need\n- **Fast streaming** - No need to download entire files\n- **Scalable processing** - Handle datasets too large for local computers"
  },
  {
   "cell_type": "markdown",
   "metadata": {},
   "source": [
    "## FAIR Data Principles\n",
    "\n",
    "**FAIR** data follows principles that make scientific data more valuable and reusable:\n",
    "\n",
    "- **F**indable - Easy to discover through catalogs and search\n",
    "- **A**ccessible - Available through standard protocols  \n",
    "- **I**nteroperable - Works with different tools and systems\n",
    "- **R**eusable - Well-documented for future use by others"
   ]
  },
  {
   "cell_type": "markdown",
   "metadata": {},
   "source": "```{figure} ../images/fair-data-principles.jpg\n:width: 600px\n:name: fair-principles\n:alt: FAIR Data Principles\n\nFAIR (Findable, Accessible, Interoperable, Reusable) data principles diagram\n```"
  },
  {
   "cell_type": "markdown",
   "metadata": {},
   "source": "**FAIR data benefits everyone:**\n- **Data producers** get citations when others use their datasets\n- **Data consumers** access interesting datasets that would otherwise be unavailable\n- **Science advances** through improved data sharing and collaboration\n\n```{figure} ../images/fair-reuse-300dpi.png\n:width: 400px\n:name: fair-reuse\n:alt: FAIR data reuse cycle\n\nFAIR data reuse and collaboration cycle\n```\n\n*Image courtesy: [Zarr illustrations](https://github.com/zarr-developers/zarr-illustrations-falk-2022)*"
  },
  {
   "cell_type": "markdown",
   "metadata": {},
   "source": [
    "## Zarr format"
   ]
  },
  {
   "cell_type": "markdown",
   "metadata": {},
   "source": [
    "**Zarr** is a modern storage format designed for large scientific datasets. Instead of storing data in single large files, Zarr breaks data into small \"chunks\" that can be:\n",
    "\n",
    "- **Compressed** to save storage space\n",
    "- **Accessed in parallel** by multiple users\n",
    "- **Streamed efficiently** from cloud storage\n",
    "- **Processed on-demand** without downloading everything\n",
    "\n",
    "Think of it like having a library where you can grab just the books you need, rather than having to check out the entire library!"
   ]
  },
  {
   "cell_type": "markdown",
   "metadata": {},
   "source": "```{figure} ../images/monolithic-vs-chunked-1200dpi.png\n:width: 400px\n:name: zarr-chunking\n:alt: Monolithic vs Chunked storage\n\nMonolithic vs chunked data storage comparison showing Zarr's advantage\n```\n\n*Courtesy: [Zarr illustrations](https://github.com/zarr-developers/zarr-illustrations-falk-2022?tab=readme-ov-file)*"
  },
  {
   "cell_type": "markdown",
   "metadata": {},
   "source": [
    "We'll create Analysis-Ready Cloud-Optimized radar datasets using the **CfRadial2.1/FM301 standard** - a hierarchical structure endorsed by the World Meteorological Organization (WMO). This standard organizes radar data efficiently for both storage and analysis."
   ]
  },
  {
   "cell_type": "markdown",
   "metadata": {},
   "source": [
    "### CfRadial2.1/FM301 standard"
   ]
  },
  {
   "cell_type": "markdown",
   "metadata": {},
   "source": [
    "The **DataTree structure** organizes radar data hierarchically:\n",
    "- **Root level**: Contains general radar metadata (location, time, etc.)\n",
    "- **Sweep levels**: Each elevation angle gets its own dataset with radar variables\n",
    "- **This structure** mirrors how meteorologists think about radar scans"
   ]
  },
  {
   "cell_type": "markdown",
   "metadata": {},
   "source": "```{figure} ../images/CfRadial2.1.svg\n:width: 400px\n:name: cfradial-structure\n:alt: CfRadial2.1 DataTree structure\n\nCfRadial2.1/FM301 hierarchical DataTree structure for radar data organization\n```"
  },
  {
   "cell_type": "markdown",
   "metadata": {},
   "source": [
    "---"
   ]
  },
  {
   "cell_type": "markdown",
   "metadata": {
    "jp-MarkdownHeadingCollapsed": true
   },
   "source": [
    "## Summary\n",
    "\n",
    "We learned about **Analysis-Ready Cloud-Optimized (ARCO)**.\n",
    "\n",
    "### 🎯 **Key Learning Outcomes:**\n",
    "\n",
    "**📊 Analysis-Ready**: Pre-processed, clean datasets ready for immediate scientific analysis  \n",
    "**☁️ Cloud-Optimized**: Efficient Zarr format enabling fast access from cloud storage  \n",
    "**🌐 FAIR Principles**: Making data Findable, Accessible, Interoperable, and Reusable  \n",
    "**📈 Time Series**: Combined multiple radar volumes to track storm evolution  \n",
    "**🏗️ Standardized Structure**: Used WMO-endorsed FM301 hierarchical organization\n",
    "\n",
    "### 🚀 **What This Enables:**\n",
    "- **Faster Research**: No more data preprocessing - start analyzing immediately\n",
    "- **Cloud Analytics**: Process large datasets without downloading everything  \n",
    "- **Reproducible Science**: Standardized formats work across different tools\n",
    "- **Collaboration**: Easy data sharing following FAIR principles\n",
    "- **Storm Tracking**: Time series analysis of severe weather events\n",
    "\n",
    "The Ontario Derecho case study demonstrates how ARCO datasets streamline radar meteorology research and education! 🌪️"
   ]
  },
  {
   "cell_type": "markdown",
   "metadata": {},
   "source": [
    "## Resources and references\n",
    " - [Xradar](https://docs.openradarscience.org/projects/xradar/en/stable/index.html)\n",
    " - [Radar cookbook](https://github.com/ProjectPythia/radar-cookbook)\n",
    " - [Py-Art landing page](https://arm-doe.github.io/pyart/)\n",
    " - [Wradlib landing page](https://docs.wradlib.org/en/latest/index.html)"
   ]
  },
  {
   "cell_type": "code",
   "execution_count": null,
   "metadata": {},
   "outputs": [],
   "source": []
  }
 ],
 "metadata": {
  "kernelspec": {
   "display_name": "Python 3 (ipykernel)",
   "language": "python",
   "name": "python3"
  },
  "language_info": {
   "codemirror_mode": {
    "name": "ipython",
    "version": 3
   },
   "file_extension": ".py",
   "mimetype": "text/x-python",
   "name": "python",
   "nbconvert_exporter": "python",
   "pygments_lexer": "ipython3",
   "version": "3.12.11"
  },
  "nbdime-conflicts": {
   "local_diff": [
    {
     "diff": [
      {
       "diff": [
        {
         "key": 0,
         "op": "addrange",
         "valuelist": [
          "Python 3"
         ]
        },
        {
         "key": 0,
         "length": 1,
         "op": "removerange"
        }
       ],
       "key": "display_name",
       "op": "patch"
      }
     ],
     "key": "kernelspec",
     "op": "patch"
    }
   ],
   "remote_diff": [
    {
     "diff": [
      {
       "diff": [
        {
         "key": 0,
         "op": "addrange",
         "valuelist": [
          "Python3"
         ]
        },
        {
         "key": 0,
         "length": 1,
         "op": "removerange"
        }
       ],
       "key": "display_name",
       "op": "patch"
      }
     ],
     "key": "kernelspec",
     "op": "patch"
    }
   ]
  },
  "toc-autonumbering": false
 },
 "nbformat": 4,
 "nbformat_minor": 4
}